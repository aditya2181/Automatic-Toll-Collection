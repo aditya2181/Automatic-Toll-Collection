{
  "nbformat": 4,
  "nbformat_minor": 0,
  "metadata": {
    "colab": {
      "provenance": []
    },
    "kernelspec": {
      "name": "python3",
      "display_name": "Python 3"
    },
    "language_info": {
      "name": "python"
    }
  },
  "cells": [
    {
      "cell_type": "code",
      "execution_count": null,
      "metadata": {
        "id": "1X9vs5m_EzMa"
      },
      "outputs": [],
      "source": [
        "import torch\n",
        "import cv2\n",
        "import numpy as np\n",
        "import pytesseract\n",
        "from datetime import datetime\n",
        "from deep_sort_realtime.deepsort_tracker import DeepSort\n",
        "from collections import defaultdict"
      ]
    },
    {
      "cell_type": "code",
      "source": [
        "# Load YOLOv5 model (pre-trained on COCO dataset)\n",
        "model = torch.hub.load('ultralytics/yolov5', 'yolov5s', pretrained=True)\n",
        "\n",
        "# Initialize Deep SORT tracker\n",
        "tracker = DeepSort(max_age=30, n_init=3, nn_budget=100)\n",
        "\n",
        "# Path to Tesseract executable (for Windows users)\n",
        "pytesseract.pytesseract.tesseract_cmd = r'Tesseract-OCR\\tesseract.exe'\n"
      ],
      "metadata": {
        "id": "LuizJpFTe-1t"
      },
      "execution_count": null,
      "outputs": []
    },
    {
      "cell_type": "code",
      "source": [
        "def extract_license_plate(frame, bbox):\n",
        "    \"\"\"Extracts the license plate region from the vehicle bounding box.\"\"\"\n",
        "    x1, y1, x2, y2 = bbox\n",
        "    plate_img = frame[y1:y2, x1:x2]  # Crop the license plate area\n",
        "    gray = cv2.cvtColor(plate_img, cv2.COLOR_BGR2GRAY)  # Convert to grayscale\n",
        "    _, thresh = cv2.threshold(gray, 150, 255, cv2.THRESH_BINARY)  # Binarize the image\n",
        "    return thresh\n"
      ],
      "metadata": {
        "id": "3poDX87IgMsL"
      },
      "execution_count": null,
      "outputs": []
    },
    {
      "cell_type": "code",
      "source": [
        "def recognize_plate(plate_img):\n",
        "    \"\"\"Uses Tesseract OCR to recognize text from the plate image.\"\"\"\n",
        "    text = pytesseract.image_to_string(plate_img, config='--psm 8')\n",
        "    return ''.join(char for char in text if char.isalnum()).upper()"
      ],
      "metadata": {
        "id": "ZGtYWg_QgpSW"
      },
      "execution_count": null,
      "outputs": []
    },
    {
      "cell_type": "code",
      "source": [
        "vehicle_data = defaultdict(lambda: {'plate': None, 'entry_time': None, 'exit_time': None, 'toll_fee': 0})"
      ],
      "metadata": {
        "id": "tH-ZpZL4hnaK"
      },
      "execution_count": null,
      "outputs": []
    },
    {
      "cell_type": "code",
      "source": [
        "def calculate_distance(coord1, coord2):\n",
        "    \"\"\"Calculates Euclidean distance between two points.\"\"\"\n",
        "    return np.linalg.norm(np.array(coord1) - np.array(coord2))"
      ],
      "metadata": {
        "id": "ywaLEtzliHfC"
      },
      "execution_count": null,
      "outputs": []
    },
    {
      "cell_type": "code",
      "source": [
        "def compute_toll_fee(distance):\n",
        "    \"\"\"Computes toll fee based on distance traveled.\"\"\"\n",
        "    return 0.5 * distance  # Example: 0.5 currency units per distance unit"
      ],
      "metadata": {
        "id": "M36a-C8JipNv"
      },
      "execution_count": null,
      "outputs": []
    },
    {
      "cell_type": "code",
      "source": [
        "def track_vehicle_movement(frame, detections):\n",
        "    \"\"\"Tracks vehicle movement and assigns unique IDs.\"\"\"\n",
        "    formatted_detections = [(bbox[:4], bbox[4], int(bbox[5])) for bbox in detections]\n",
        "    tracks = tracker.update_tracks(formatted_detections, frame=frame)\n",
        "\n",
        "    for track in tracks:\n",
        "        if not track.is_confirmed() or track.time_since_update > 1:\n",
        "            continue\n",
        "\n",
        "        track_id = track.track_id\n",
        "        bbox = track.to_ltwh()\n",
        "        x, y, w, h = bbox\n",
        "\n",
        "        if vehicle_data[track_id]['plate'] is None:\n",
        "            plate_img = extract_license_plate(frame, (x, y, x + w, y + h))\n",
        "            plate_text = recognize_plate(plate_img)\n",
        "            vehicle_data[track_id]['plate'] = plate_text\n",
        "            vehicle_data[track_id]['entry_time'] = datetime.now()\n",
        "\n",
        "        cv2.rectangle(frame, (x, y), (x + w, y + h), (0, 255, 0), 2)\n",
        "        cv2.putText(frame, f\"ID: {track_id} | Plate: {vehicle_data[track_id]['plate']}\",\n",
        "                    (x, y - 10), cv2.FONT_HERSHEY_SIMPLEX, 0.5, (255, 0, 0), 2)\n",
        "\n",
        "        # Simulate toll point detection\n",
        "        entry_point, exit_point = (0, 0), (500, 500)\n",
        "        distance = calculate_distance(entry_point, exit_point)\n",
        "        vehicle_data[track_id]['toll_fee'] = compute_toll_fee(distance)\n",
        "        vehicle_data[track_id]['exit_time'] = datetime.now()\n"
      ],
      "metadata": {
        "id": "foJigIhfjHLY"
      },
      "execution_count": null,
      "outputs": []
    },
    {
      "cell_type": "code",
      "source": [
        "def main(video_source):\n",
        "    cap = cv2.VideoCapture(video_source)\n",
        "\n",
        "    while cap.isOpened():\n",
        "        ret, frame = cap.read()\n",
        "        if not ret:\n",
        "            break\n",
        "\n",
        "        results = model(frame)\n",
        "        detections = results.xyxy[0].cpu().numpy()\n",
        "        vehicle_detections = [d for d in detections if int(d[5]) in [2, 3, 5, 7]]\n",
        "        frame = track_vehicle_movement(frame, vehicle_detections)\n",
        "\n",
        "        cv2.imshow(\"Vehicle Tracking\", frame)\n",
        "        if cv2.waitKey(1) & 0xFF == ord('q'):\n",
        "            break\n",
        "\n",
        "    cap.release()\n",
        "    cv2.destroyAllWindows()\n",
        "\n",
        "main(0)\n"
      ],
      "metadata": {
        "id": "b4VeWKoej046"
      },
      "execution_count": null,
      "outputs": []
    }
  ]
}